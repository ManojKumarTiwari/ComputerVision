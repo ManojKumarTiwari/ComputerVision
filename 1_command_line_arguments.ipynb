{
  "nbformat": 4,
  "nbformat_minor": 0,
  "metadata": {
    "colab": {
      "name": "1_command_line_arguments.ipynb",
      "provenance": [],
      "authorship_tag": "ABX9TyMQ5AD3PD1324SVS1B3NfLn",
      "include_colab_link": true
    },
    "kernelspec": {
      "name": "python3",
      "display_name": "Python 3"
    }
  },
  "cells": [
    {
      "cell_type": "markdown",
      "metadata": {
        "id": "view-in-github",
        "colab_type": "text"
      },
      "source": [
        "<a href=\"https://colab.research.google.com/github/ManojKumarTiwari/ComputerVision/blob/master/1_command_line_arguments.ipynb\" target=\"_parent\"><img src=\"https://colab.research.google.com/assets/colab-badge.svg\" alt=\"Open In Colab\"/></a>"
      ]
    },
    {
      "cell_type": "markdown",
      "metadata": {
        "id": "c-5WTp-Z9Zap",
        "colab_type": "text"
      },
      "source": [
        "### Reference\n",
        "https://www.pyimagesearch.com/2018/03/12/python-argparse-command-line-arguments/"
      ]
    },
    {
      "cell_type": "code",
      "metadata": {
        "id": "n9E0AeqNsZ7O",
        "colab_type": "code",
        "colab": {}
      },
      "source": [
        "# create a new .py file(here python_argparse_cli.py) and and paste the below code\n",
        "\n",
        "# USAGE\n",
        "# python python_argparse_cli.py --name Maddy\n",
        "# python python_argparse_cli.py -n Maddy\n",
        "\n",
        "# import the necessary packages \n",
        "import argparse\n",
        "\n",
        "# construct the ArgumentParser Object\n",
        "ap = argparse.ArgumentParser()\n",
        "\n",
        "# add an argument\n",
        "ap.add_argument(\"-n\",\"--name\",required=True, help=\"enter the username\")\n",
        "\n",
        "# parse the arguments\n",
        "args = vars(ap.parse_args())\n",
        "\n",
        "# display a friendly message\n",
        "print(\"Hello {}, How are you?\".format(args[\"name\"]))\n",
        "print(args)"
      ],
      "execution_count": 0,
      "outputs": []
    },
    {
      "cell_type": "code",
      "metadata": {
        "id": "o-Au7JLUnu7a",
        "colab_type": "code",
        "colab": {
          "base_uri": "https://localhost:8080/",
          "height": 101
        },
        "outputId": "5bc9661f-a29c-4ede-d22a-aed4f0161d40"
      },
      "source": [
        "!python python_argparse_cli.py --help"
      ],
      "execution_count": 6,
      "outputs": [
        {
          "output_type": "stream",
          "text": [
            "usage: python_argparse_cli.py [-h] [-n NAME]\n",
            "\n",
            "optional arguments:\n",
            "  -h, --help            show this help message and exit\n",
            "  -n NAME, --name NAME  enter the username\n"
          ],
          "name": "stdout"
        }
      ]
    },
    {
      "cell_type": "code",
      "metadata": {
        "id": "TP5OEM36oJ5b",
        "colab_type": "code",
        "colab": {
          "base_uri": "https://localhost:8080/",
          "height": 34
        },
        "outputId": "754c5b65-667b-49e7-c5b7-24b49e6bcabd"
      },
      "source": [
        "!python python_argparse_cli.py -n Maddy"
      ],
      "execution_count": 7,
      "outputs": [
        {
          "output_type": "stream",
          "text": [
            "Hello Maddy, How are you\n"
          ],
          "name": "stdout"
        }
      ]
    },
    {
      "cell_type": "code",
      "metadata": {
        "id": "wfi3WGsAoSMQ",
        "colab_type": "code",
        "colab": {
          "base_uri": "https://localhost:8080/",
          "height": 34
        },
        "outputId": "738f7ad8-3e52-4da1-a734-2347220cbaa0"
      },
      "source": [
        "!python python_argparse_cli.py --name Maddy"
      ],
      "execution_count": 8,
      "outputs": [
        {
          "output_type": "stream",
          "text": [
            "Hello Maddy, How are you\n"
          ],
          "name": "stdout"
        }
      ]
    },
    {
      "cell_type": "code",
      "metadata": {
        "id": "Q72IbeQAoYFQ",
        "colab_type": "code",
        "colab": {
          "base_uri": "https://localhost:8080/",
          "height": 50
        },
        "outputId": "94ec5dba-967d-498b-b1d6-5e7bb940c4b9"
      },
      "source": [
        "!python python_argparse_cli.py -n Maddy"
      ],
      "execution_count": 9,
      "outputs": [
        {
          "output_type": "stream",
          "text": [
            "Hello Maddy, How are you\n",
            "{'name': 'Maddy'}\n"
          ],
          "name": "stdout"
        }
      ]
    },
    {
      "cell_type": "code",
      "metadata": {
        "id": "MlPGvhJ5oe3C",
        "colab_type": "code",
        "colab": {
          "base_uri": "https://localhost:8080/",
          "height": 50
        },
        "outputId": "bb331c17-0e9f-4963-c8de-96b3a5a898aa"
      },
      "source": [
        "!python python_argparse_cli.py"
      ],
      "execution_count": 10,
      "outputs": [
        {
          "output_type": "stream",
          "text": [
            "Hello None, How are you?\n",
            "{'name': None}\n"
          ],
          "name": "stdout"
        }
      ]
    },
    {
      "cell_type": "code",
      "metadata": {
        "id": "ZdaAyAHQqfsF",
        "colab_type": "code",
        "colab": {
          "base_uri": "https://localhost:8080/",
          "height": 50
        },
        "outputId": "4574009c-e26e-45c9-f01d-ecf190ea0fed"
      },
      "source": [
        "!python python_argparse_cli.py"
      ],
      "execution_count": 11,
      "outputs": [
        {
          "output_type": "stream",
          "text": [
            "usage: python_argparse_cli.py [-h] -n NAME\n",
            "python_argparse_cli.py: error: the following arguments are required: -n/--name\n"
          ],
          "name": "stdout"
        }
      ]
    },
    {
      "cell_type": "code",
      "metadata": {
        "id": "koNdp9D4qp1G",
        "colab_type": "code",
        "colab": {
          "base_uri": "https://localhost:8080/",
          "height": 50
        },
        "outputId": "dcf031a8-ad4c-4893-ed3d-098f0ec5abf8"
      },
      "source": [
        "!python python_argparse_cli.py -n Maddy"
      ],
      "execution_count": 12,
      "outputs": [
        {
          "output_type": "stream",
          "text": [
            "Hello Maddy, How are you?\n",
            "{'name': 'Maddy'}\n"
          ],
          "name": "stdout"
        }
      ]
    },
    {
      "cell_type": "code",
      "metadata": {
        "id": "kGQzfeD6rY5_",
        "colab_type": "code",
        "colab": {
          "base_uri": "https://localhost:8080/",
          "height": 101
        },
        "outputId": "8be559e6-e9bf-4001-f3e5-2735395ef186"
      },
      "source": [
        "!python python_argparse_cli.py -h"
      ],
      "execution_count": 16,
      "outputs": [
        {
          "output_type": "stream",
          "text": [
            "usage: python_argparse_cli.py [-h] -n NAME\n",
            "\n",
            "optional arguments:\n",
            "  -h, --help            show this help message and exit\n",
            "  -n NAME, --name NAME  enter the username\n"
          ],
          "name": "stdout"
        }
      ]
    },
    {
      "cell_type": "code",
      "metadata": {
        "id": "Xx1OkSm8sGuO",
        "colab_type": "code",
        "colab": {}
      },
      "source": [
        "# create a new .py file(here shape_counter.py) and and paste the below code\n",
        "\n",
        "# USAGE\n",
        "# python shape_counter.py --input /content/shapes3.png --output /content/shapes_count3.png\n",
        "# python shape_counter.py -i /content/shapes1.jpg -o /content/shapes_count1.jpg\n",
        "\n",
        "# import the necessary packages\n",
        "import argparse\n",
        "import imutils\n",
        "import cv2\n",
        "\n",
        "# construct the argument parser\n",
        "ap = argparse.ArgumentParser()\n",
        "\n",
        "# add the arguments\n",
        "ap.add_argument(\"-i\",\"--input\", required=True, help=\"path to input image\")\n",
        "ap.add_argument(\"-o\",\"--output\", required=True, help=\"path to output image\")\n",
        "\n",
        "# parse the arguments\n",
        "args = vars(ap.parse_args())\n",
        "\n",
        "# load the image from the disk\n",
        "image = cv2.imread(args[\"input\"])\n",
        "\n",
        "# convert the image to grayscale, blur it, and threshold it\n",
        "gray = cv2.cvtColor(image, cv2.COLOR_BGR2GRAY)\n",
        "blurred = cv2.GaussianBlur(gray, (5,5), 0)\n",
        "thresh = cv2.threshold(blurred, 60, 255, cv2.THRESH_BINARY)[1]\n",
        "\n",
        "# extract contours from the image\n",
        "cnts = cv2.findContours(thresh.copy(), cv2.RETR_EXTERNAL,\n",
        "\tcv2.CHAIN_APPROX_SIMPLE)\n",
        "cnts = imutils.grab_contours(cnts)\n",
        "# loop over the contours and draw them on the input image\n",
        "for c in cnts:\n",
        "\tcv2.drawContours(image, [c], -1, (0, 0, 255), 2)\n",
        "# display the total number of shapes on the image\n",
        "text = \"I found {} total shapes\".format(len(cnts))\n",
        "cv2.putText(image, text, (10, 20), cv2.FONT_HERSHEY_SIMPLEX, 0.5,\n",
        "\t\t(0, 0, 255), 2)\n",
        "# write the output image to disk\n",
        "cv2.imwrite(args[\"output\"], image)"
      ],
      "execution_count": 0,
      "outputs": []
    },
    {
      "cell_type": "code",
      "metadata": {
        "id": "kRfU8p2G_Q67",
        "colab_type": "code",
        "colab": {}
      },
      "source": [
        "# Upload some shapes images and try the below code\n",
        "\n",
        "# the below command will create a new image file in the provided directory with the provided name with number of shapes in the input image\n",
        "!python shape_counter.py -i /content/shapes1.jpg -o /content/shapes_count1.jpg"
      ],
      "execution_count": 0,
      "outputs": []
    },
    {
      "cell_type": "code",
      "metadata": {
        "id": "aw06AHzh_sac",
        "colab_type": "code",
        "colab": {}
      },
      "source": [
        "!python shape_counter.py --input /content/shapes3.png --output /content/shapes_count3.png"
      ],
      "execution_count": 0,
      "outputs": []
    },
    {
      "cell_type": "code",
      "metadata": {
        "id": "HEXckw0sAvT3",
        "colab_type": "code",
        "colab": {}
      },
      "source": [
        ""
      ],
      "execution_count": 0,
      "outputs": []
    }
  ]
}